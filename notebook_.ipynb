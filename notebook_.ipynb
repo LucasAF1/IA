{
  "nbformat": 4,
  "nbformat_minor": 0,
  "metadata": {
    "colab": {
      "name": "notebook .ipynb",
      "provenance": []
    },
    "kernelspec": {
      "name": "python3",
      "display_name": "Python 3"
    },
    "widgets": {
      "application/vnd.jupyter.widget-state+json": {
        "4aa3cc6173b94464978e9dc914b0fa64": {
          "model_module": "@jupyter-widgets/controls",
          "model_name": "HBoxModel",
          "state": {
            "_view_name": "HBoxView",
            "_dom_classes": [],
            "_model_name": "HBoxModel",
            "_view_module": "@jupyter-widgets/controls",
            "_model_module_version": "1.5.0",
            "_view_count": null,
            "_view_module_version": "1.5.0",
            "box_style": "",
            "layout": "IPY_MODEL_bd3330de223d43e68eeb2e44a86c2da2",
            "_model_module": "@jupyter-widgets/controls",
            "children": [
              "IPY_MODEL_3d417a195f05459fb03bb900256ff511",
              "IPY_MODEL_2977a1f387b24a9494068732809b98d8",
              "IPY_MODEL_448014bd69b8414c802652f18fd0dbf3"
            ]
          }
        },
        "bd3330de223d43e68eeb2e44a86c2da2": {
          "model_module": "@jupyter-widgets/base",
          "model_name": "LayoutModel",
          "state": {
            "_view_name": "LayoutView",
            "grid_template_rows": null,
            "right": null,
            "justify_content": null,
            "_view_module": "@jupyter-widgets/base",
            "overflow": null,
            "_model_module_version": "1.2.0",
            "_view_count": null,
            "flex_flow": "row wrap",
            "width": "100%",
            "min_width": null,
            "border": null,
            "align_items": null,
            "bottom": null,
            "_model_module": "@jupyter-widgets/base",
            "top": null,
            "grid_column": null,
            "overflow_y": null,
            "overflow_x": null,
            "grid_auto_flow": null,
            "grid_area": null,
            "grid_template_columns": null,
            "flex": null,
            "_model_name": "LayoutModel",
            "justify_items": null,
            "grid_row": null,
            "max_height": null,
            "align_content": null,
            "visibility": null,
            "align_self": null,
            "height": null,
            "min_height": null,
            "padding": null,
            "grid_auto_rows": null,
            "grid_gap": null,
            "max_width": null,
            "order": null,
            "_view_module_version": "1.2.0",
            "grid_template_areas": null,
            "object_position": null,
            "object_fit": null,
            "grid_auto_columns": null,
            "margin": null,
            "display": "inline-flex",
            "left": null
          }
        },
        "3d417a195f05459fb03bb900256ff511": {
          "model_module": "@jupyter-widgets/controls",
          "model_name": "HTMLModel",
          "state": {
            "_view_name": "HTMLView",
            "style": "IPY_MODEL_b79efab7dadf4b7bb2a5bdc2d2051507",
            "_dom_classes": [],
            "description": "",
            "_model_name": "HTMLModel",
            "placeholder": "​",
            "_view_module": "@jupyter-widgets/controls",
            "_model_module_version": "1.5.0",
            "value": "Done! Use &#x27;show&#x27; commands to display/save ",
            "_view_count": null,
            "_view_module_version": "1.5.0",
            "description_tooltip": null,
            "_model_module": "@jupyter-widgets/controls",
            "layout": "IPY_MODEL_37643ff95c6641b98c1be37cdb9ee0ff"
          }
        },
        "2977a1f387b24a9494068732809b98d8": {
          "model_module": "@jupyter-widgets/controls",
          "model_name": "FloatProgressModel",
          "state": {
            "_view_name": "ProgressView",
            "style": "IPY_MODEL_f58a50b698e44f0eb7350b65147586db",
            "_dom_classes": [],
            "description": "",
            "_model_name": "FloatProgressModel",
            "bar_style": "success",
            "max": 1,
            "_view_module": "@jupyter-widgets/controls",
            "_model_module_version": "1.5.0",
            "value": 1,
            "_view_count": null,
            "_view_module_version": "1.5.0",
            "orientation": "horizontal",
            "min": 0,
            "description_tooltip": null,
            "_model_module": "@jupyter-widgets/controls",
            "layout": "IPY_MODEL_3546c1b15a244c538f0404e387d1b4ad"
          }
        },
        "448014bd69b8414c802652f18fd0dbf3": {
          "model_module": "@jupyter-widgets/controls",
          "model_name": "HTMLModel",
          "state": {
            "_view_name": "HTMLView",
            "style": "IPY_MODEL_056d20e6cefb4cdeaa227f115a82e91f",
            "_dom_classes": [],
            "description": "",
            "_model_name": "HTMLModel",
            "placeholder": "​",
            "_view_module": "@jupyter-widgets/controls",
            "_model_module_version": "1.5.0",
            "value": " [100%]   00:00 -&gt; (00:00 left)",
            "_view_count": null,
            "_view_module_version": "1.5.0",
            "description_tooltip": null,
            "_model_module": "@jupyter-widgets/controls",
            "layout": "IPY_MODEL_d8bc405055ac46a591f70e22c08e22e3"
          }
        },
        "b79efab7dadf4b7bb2a5bdc2d2051507": {
          "model_module": "@jupyter-widgets/controls",
          "model_name": "DescriptionStyleModel",
          "state": {
            "_view_name": "StyleView",
            "_model_name": "DescriptionStyleModel",
            "description_width": "",
            "_view_module": "@jupyter-widgets/base",
            "_model_module_version": "1.5.0",
            "_view_count": null,
            "_view_module_version": "1.2.0",
            "_model_module": "@jupyter-widgets/controls"
          }
        },
        "37643ff95c6641b98c1be37cdb9ee0ff": {
          "model_module": "@jupyter-widgets/base",
          "model_name": "LayoutModel",
          "state": {
            "_view_name": "LayoutView",
            "grid_template_rows": null,
            "right": null,
            "justify_content": null,
            "_view_module": "@jupyter-widgets/base",
            "overflow": null,
            "_model_module_version": "1.2.0",
            "_view_count": null,
            "flex_flow": null,
            "width": null,
            "min_width": null,
            "border": null,
            "align_items": null,
            "bottom": null,
            "_model_module": "@jupyter-widgets/base",
            "top": null,
            "grid_column": null,
            "overflow_y": null,
            "overflow_x": null,
            "grid_auto_flow": null,
            "grid_area": null,
            "grid_template_columns": null,
            "flex": null,
            "_model_name": "LayoutModel",
            "justify_items": null,
            "grid_row": null,
            "max_height": null,
            "align_content": null,
            "visibility": null,
            "align_self": null,
            "height": null,
            "min_height": null,
            "padding": null,
            "grid_auto_rows": null,
            "grid_gap": null,
            "max_width": null,
            "order": null,
            "_view_module_version": "1.2.0",
            "grid_template_areas": null,
            "object_position": null,
            "object_fit": null,
            "grid_auto_columns": null,
            "margin": null,
            "display": null,
            "left": null
          }
        },
        "f58a50b698e44f0eb7350b65147586db": {
          "model_module": "@jupyter-widgets/controls",
          "model_name": "ProgressStyleModel",
          "state": {
            "_view_name": "StyleView",
            "_model_name": "ProgressStyleModel",
            "description_width": "",
            "_view_module": "@jupyter-widgets/base",
            "_model_module_version": "1.5.0",
            "_view_count": null,
            "_view_module_version": "1.2.0",
            "bar_color": null,
            "_model_module": "@jupyter-widgets/controls"
          }
        },
        "3546c1b15a244c538f0404e387d1b4ad": {
          "model_module": "@jupyter-widgets/base",
          "model_name": "LayoutModel",
          "state": {
            "_view_name": "LayoutView",
            "grid_template_rows": null,
            "right": null,
            "justify_content": null,
            "_view_module": "@jupyter-widgets/base",
            "overflow": null,
            "_model_module_version": "1.2.0",
            "_view_count": null,
            "flex_flow": null,
            "width": null,
            "min_width": null,
            "border": null,
            "align_items": null,
            "bottom": null,
            "_model_module": "@jupyter-widgets/base",
            "top": null,
            "grid_column": null,
            "overflow_y": null,
            "overflow_x": null,
            "grid_auto_flow": null,
            "grid_area": null,
            "grid_template_columns": null,
            "flex": "2",
            "_model_name": "LayoutModel",
            "justify_items": null,
            "grid_row": null,
            "max_height": null,
            "align_content": null,
            "visibility": null,
            "align_self": null,
            "height": null,
            "min_height": null,
            "padding": null,
            "grid_auto_rows": null,
            "grid_gap": null,
            "max_width": null,
            "order": null,
            "_view_module_version": "1.2.0",
            "grid_template_areas": null,
            "object_position": null,
            "object_fit": null,
            "grid_auto_columns": null,
            "margin": null,
            "display": null,
            "left": null
          }
        },
        "056d20e6cefb4cdeaa227f115a82e91f": {
          "model_module": "@jupyter-widgets/controls",
          "model_name": "DescriptionStyleModel",
          "state": {
            "_view_name": "StyleView",
            "_model_name": "DescriptionStyleModel",
            "description_width": "",
            "_view_module": "@jupyter-widgets/base",
            "_model_module_version": "1.5.0",
            "_view_count": null,
            "_view_module_version": "1.2.0",
            "_model_module": "@jupyter-widgets/controls"
          }
        },
        "d8bc405055ac46a591f70e22c08e22e3": {
          "model_module": "@jupyter-widgets/base",
          "model_name": "LayoutModel",
          "state": {
            "_view_name": "LayoutView",
            "grid_template_rows": null,
            "right": null,
            "justify_content": null,
            "_view_module": "@jupyter-widgets/base",
            "overflow": null,
            "_model_module_version": "1.2.0",
            "_view_count": null,
            "flex_flow": null,
            "width": null,
            "min_width": null,
            "border": null,
            "align_items": null,
            "bottom": null,
            "_model_module": "@jupyter-widgets/base",
            "top": null,
            "grid_column": null,
            "overflow_y": null,
            "overflow_x": null,
            "grid_auto_flow": null,
            "grid_area": null,
            "grid_template_columns": null,
            "flex": null,
            "_model_name": "LayoutModel",
            "justify_items": null,
            "grid_row": null,
            "max_height": null,
            "align_content": null,
            "visibility": null,
            "align_self": null,
            "height": null,
            "min_height": null,
            "padding": null,
            "grid_auto_rows": null,
            "grid_gap": null,
            "max_width": null,
            "order": null,
            "_view_module_version": "1.2.0",
            "grid_template_areas": null,
            "object_position": null,
            "object_fit": null,
            "grid_auto_columns": null,
            "margin": null,
            "display": null,
            "left": null
          }
        }
      }
    }
  },
  "cells": [
    {
      "cell_type": "markdown",
      "metadata": {
        "id": "Ih2lAmCVpF0w"
      },
      "source": [
        "## Descrição\n",
        "\n",
        "Esses dados contêm informações relacionadas ao fator responsável pelo ataque cardíaco. Os dados classificam se os pacientes têm doenças cardíacas ou não de acordo com suas características.\n",
        "Essa análise tem como objetivo realizar investigações iniciais sobre os dados, de modo a descobrir padrões, detectar anomalias e testar hipóteses.\n",
        "\n",
        "#### Explicação das Colunas\n",
        "\n",
        "1. Age - idade em anos\n",
        "\n",
        "2. Sex - (1 = masculino; 0 = feminino)\n",
        "\n",
        "3. CP  - tipo de dor no peito\n",
        "        0: Angina típica: dor no peito relacionada à diminuição do suprimento de sangue ao coração\n",
        "        1: angina atípica: dor no peito não relacionada ao coração\n",
        "        2: Dor não anginosa: tipicamente espasmos esofágicos (não relacionados ao coração)\n",
        "        3: Assintomático: dor no peito sem sinais de doença\n",
        "    \n",
        "4. TRESTBPS - pressão arterial em repouso (em mm Hg na admissão ao hospital) acima de 130-140 é normalmente motivo de preocupação\n",
        "\n",
        "5. CHOL - colesterol sérico em mg/dl\n",
        "        .soro = LDL + HDL + .2 * triglicerídeos\n",
        "        .acima de 200 é motivo de preocupação\n",
        "\n",
        "6. FPS - (açúcar no sangue em jejum > 120 mg/dl) (1 = verdadeiro; 0 = falso)\n",
        "        .> 126' mg/dL sinaliza diabetes\n",
        "\n",
        "7. RESTECH - resultados eletrocardiográficos em repouso\n",
        "        .0: nada a notar\n",
        "        .1: Anormalidade da onda ST-T\n",
        "            .pode variar de sintomas leves a problemas graves\n",
        "            .sinaliza batimento cardíaco não normal\n",
        "        .2: Hipertrofia ventricular esquerda possível ou definitiva\n",
        "            .Câmara de bombeamento principal do coração ampliado\n",
        "\n",
        "8. THALACH - frequência cardíaca máxima alcançada \n",
        "\n",
        "9. EXANG - angina induzida por exercício (1 = sim; 0 = não)\n",
        "\n",
        "10. OLDPEAK - depressão de ST por exercício em relação ao repouso.\n",
        "\n",
        "11. SLOPE - a inclinação do segmento ST de pico do exercício\n",
        "        .0: Upsloping: melhor frequência cardíaca com exercício (incomum)\n",
        "        .1: Flatsloping: mudança mínima (coração saudável típico)\n",
        "        .2: Downslopins: sinais de coração não saudável\n",
        "\n",
        "12. CA - número de vasos principais (0-3) coloridos por fluorosopia\n",
        "        .vaso colorido significa que o médico pode ver o sangue passando\n",
        "        .quanto mais circulação sanguínea, melhor (sem coágulos)\n",
        "\n",
        "13. THAL - resultado de estresse com tálio\n",
        "        .1,3: normal\n",
        "        .6: fixed defect: used to be defect but ok now\n",
        "        .7: reversable defect: no proper blood movement when excercising\n",
        "\n",
        "14. TARGET - tem doença ou não (1 = sim, 0 = não)"
      ]
    },
    {
      "cell_type": "code",
      "metadata": {
        "colab": {
          "base_uri": "https://localhost:8080/"
        },
        "id": "Otui7TpngNay",
        "outputId": "305741f2-54fb-4d80-b89c-5bd9f3233da7"
      },
      "source": [
        "!pip install mpld3"
      ],
      "execution_count": 1,
      "outputs": [
        {
          "output_type": "stream",
          "text": [
            "Collecting mpld3\n",
            "\u001b[?25l  Downloading https://files.pythonhosted.org/packages/7d/b4/f380b6d58658106870161d703972b74fc2e66317acf298f873c0816d1fb2/mpld3-0.5.2.tar.gz (888kB)\n",
            "\r\u001b[K     |▍                               | 10kB 19.7MB/s eta 0:00:01\r\u001b[K     |▊                               | 20kB 25.3MB/s eta 0:00:01\r\u001b[K     |█                               | 30kB 20.4MB/s eta 0:00:01\r\u001b[K     |█▌                              | 40kB 17.0MB/s eta 0:00:01\r\u001b[K     |█▉                              | 51kB 14.1MB/s eta 0:00:01\r\u001b[K     |██▏                             | 61kB 16.0MB/s eta 0:00:01\r\u001b[K     |██▋                             | 71kB 12.8MB/s eta 0:00:01\r\u001b[K     |███                             | 81kB 13.2MB/s eta 0:00:01\r\u001b[K     |███▎                            | 92kB 11.6MB/s eta 0:00:01\r\u001b[K     |███▊                            | 102kB 11.4MB/s eta 0:00:01\r\u001b[K     |████                            | 112kB 11.4MB/s eta 0:00:01\r\u001b[K     |████▍                           | 122kB 11.4MB/s eta 0:00:01\r\u001b[K     |████▉                           | 133kB 11.4MB/s eta 0:00:01\r\u001b[K     |█████▏                          | 143kB 11.4MB/s eta 0:00:01\r\u001b[K     |█████▌                          | 153kB 11.4MB/s eta 0:00:01\r\u001b[K     |██████                          | 163kB 11.4MB/s eta 0:00:01\r\u001b[K     |██████▎                         | 174kB 11.4MB/s eta 0:00:01\r\u001b[K     |██████▋                         | 184kB 11.4MB/s eta 0:00:01\r\u001b[K     |███████                         | 194kB 11.4MB/s eta 0:00:01\r\u001b[K     |███████▍                        | 204kB 11.4MB/s eta 0:00:01\r\u001b[K     |███████▊                        | 215kB 11.4MB/s eta 0:00:01\r\u001b[K     |████████▏                       | 225kB 11.4MB/s eta 0:00:01\r\u001b[K     |████████▌                       | 235kB 11.4MB/s eta 0:00:01\r\u001b[K     |████████▉                       | 245kB 11.4MB/s eta 0:00:01\r\u001b[K     |█████████▏                      | 256kB 11.4MB/s eta 0:00:01\r\u001b[K     |█████████▋                      | 266kB 11.4MB/s eta 0:00:01\r\u001b[K     |██████████                      | 276kB 11.4MB/s eta 0:00:01\r\u001b[K     |██████████▎                     | 286kB 11.4MB/s eta 0:00:01\r\u001b[K     |██████████▊                     | 296kB 11.4MB/s eta 0:00:01\r\u001b[K     |███████████                     | 307kB 11.4MB/s eta 0:00:01\r\u001b[K     |███████████▍                    | 317kB 11.4MB/s eta 0:00:01\r\u001b[K     |███████████▉                    | 327kB 11.4MB/s eta 0:00:01\r\u001b[K     |████████████▏                   | 337kB 11.4MB/s eta 0:00:01\r\u001b[K     |████████████▌                   | 348kB 11.4MB/s eta 0:00:01\r\u001b[K     |█████████████                   | 358kB 11.4MB/s eta 0:00:01\r\u001b[K     |█████████████▎                  | 368kB 11.4MB/s eta 0:00:01\r\u001b[K     |█████████████▋                  | 378kB 11.4MB/s eta 0:00:01\r\u001b[K     |██████████████                  | 389kB 11.4MB/s eta 0:00:01\r\u001b[K     |██████████████▍                 | 399kB 11.4MB/s eta 0:00:01\r\u001b[K     |██████████████▊                 | 409kB 11.4MB/s eta 0:00:01\r\u001b[K     |███████████████▏                | 419kB 11.4MB/s eta 0:00:01\r\u001b[K     |███████████████▌                | 430kB 11.4MB/s eta 0:00:01\r\u001b[K     |███████████████▉                | 440kB 11.4MB/s eta 0:00:01\r\u001b[K     |████████████████▎               | 450kB 11.4MB/s eta 0:00:01\r\u001b[K     |████████████████▋               | 460kB 11.4MB/s eta 0:00:01\r\u001b[K     |█████████████████               | 471kB 11.4MB/s eta 0:00:01\r\u001b[K     |█████████████████▎              | 481kB 11.4MB/s eta 0:00:01\r\u001b[K     |█████████████████▊              | 491kB 11.4MB/s eta 0:00:01\r\u001b[K     |██████████████████              | 501kB 11.4MB/s eta 0:00:01\r\u001b[K     |██████████████████▍             | 512kB 11.4MB/s eta 0:00:01\r\u001b[K     |██████████████████▉             | 522kB 11.4MB/s eta 0:00:01\r\u001b[K     |███████████████████▏            | 532kB 11.4MB/s eta 0:00:01\r\u001b[K     |███████████████████▌            | 542kB 11.4MB/s eta 0:00:01\r\u001b[K     |████████████████████            | 552kB 11.4MB/s eta 0:00:01\r\u001b[K     |████████████████████▎           | 563kB 11.4MB/s eta 0:00:01\r\u001b[K     |████████████████████▋           | 573kB 11.4MB/s eta 0:00:01\r\u001b[K     |█████████████████████           | 583kB 11.4MB/s eta 0:00:01\r\u001b[K     |█████████████████████▍          | 593kB 11.4MB/s eta 0:00:01\r\u001b[K     |█████████████████████▊          | 604kB 11.4MB/s eta 0:00:01\r\u001b[K     |██████████████████████▏         | 614kB 11.4MB/s eta 0:00:01\r\u001b[K     |██████████████████████▌         | 624kB 11.4MB/s eta 0:00:01\r\u001b[K     |██████████████████████▉         | 634kB 11.4MB/s eta 0:00:01\r\u001b[K     |███████████████████████▎        | 645kB 11.4MB/s eta 0:00:01\r\u001b[K     |███████████████████████▋        | 655kB 11.4MB/s eta 0:00:01\r\u001b[K     |████████████████████████        | 665kB 11.4MB/s eta 0:00:01\r\u001b[K     |████████████████████████▍       | 675kB 11.4MB/s eta 0:00:01\r\u001b[K     |████████████████████████▊       | 686kB 11.4MB/s eta 0:00:01\r\u001b[K     |█████████████████████████       | 696kB 11.4MB/s eta 0:00:01\r\u001b[K     |█████████████████████████▍      | 706kB 11.4MB/s eta 0:00:01\r\u001b[K     |█████████████████████████▉      | 716kB 11.4MB/s eta 0:00:01\r\u001b[K     |██████████████████████████▏     | 727kB 11.4MB/s eta 0:00:01\r\u001b[K     |██████████████████████████▌     | 737kB 11.4MB/s eta 0:00:01\r\u001b[K     |███████████████████████████     | 747kB 11.4MB/s eta 0:00:01\r\u001b[K     |███████████████████████████▎    | 757kB 11.4MB/s eta 0:00:01\r\u001b[K     |███████████████████████████▋    | 768kB 11.4MB/s eta 0:00:01\r\u001b[K     |████████████████████████████    | 778kB 11.4MB/s eta 0:00:01\r\u001b[K     |████████████████████████████▍   | 788kB 11.4MB/s eta 0:00:01\r\u001b[K     |████████████████████████████▊   | 798kB 11.4MB/s eta 0:00:01\r\u001b[K     |█████████████████████████████▏  | 808kB 11.4MB/s eta 0:00:01\r\u001b[K     |█████████████████████████████▌  | 819kB 11.4MB/s eta 0:00:01\r\u001b[K     |█████████████████████████████▉  | 829kB 11.4MB/s eta 0:00:01\r\u001b[K     |██████████████████████████████▎ | 839kB 11.4MB/s eta 0:00:01\r\u001b[K     |██████████████████████████████▋ | 849kB 11.4MB/s eta 0:00:01\r\u001b[K     |███████████████████████████████ | 860kB 11.4MB/s eta 0:00:01\r\u001b[K     |███████████████████████████████▍| 870kB 11.4MB/s eta 0:00:01\r\u001b[K     |███████████████████████████████▊| 880kB 11.4MB/s eta 0:00:01\r\u001b[K     |████████████████████████████████| 890kB 11.4MB/s \n",
            "\u001b[?25hRequirement already satisfied: jinja2 in /usr/local/lib/python3.6/dist-packages (from mpld3) (2.11.2)\n",
            "Requirement already satisfied: matplotlib in /usr/local/lib/python3.6/dist-packages (from mpld3) (3.2.2)\n",
            "Requirement already satisfied: MarkupSafe>=0.23 in /usr/local/lib/python3.6/dist-packages (from jinja2->mpld3) (1.1.1)\n",
            "Requirement already satisfied: cycler>=0.10 in /usr/local/lib/python3.6/dist-packages (from matplotlib->mpld3) (0.10.0)\n",
            "Requirement already satisfied: kiwisolver>=1.0.1 in /usr/local/lib/python3.6/dist-packages (from matplotlib->mpld3) (1.3.1)\n",
            "Requirement already satisfied: pyparsing!=2.0.4,!=2.1.2,!=2.1.6,>=2.0.1 in /usr/local/lib/python3.6/dist-packages (from matplotlib->mpld3) (2.4.7)\n",
            "Requirement already satisfied: python-dateutil>=2.1 in /usr/local/lib/python3.6/dist-packages (from matplotlib->mpld3) (2.8.1)\n",
            "Requirement already satisfied: numpy>=1.11 in /usr/local/lib/python3.6/dist-packages (from matplotlib->mpld3) (1.18.5)\n",
            "Requirement already satisfied: six in /usr/local/lib/python3.6/dist-packages (from cycler>=0.10->matplotlib->mpld3) (1.15.0)\n",
            "Building wheels for collected packages: mpld3\n",
            "  Building wheel for mpld3 (setup.py) ... \u001b[?25l\u001b[?25hdone\n",
            "  Created wheel for mpld3: filename=mpld3-0.5.2-cp36-none-any.whl size=200618 sha256=97493cf9804a2921d5f052f65056ef9bc27aafbbf3bedbd895f0603ab9bb453d\n",
            "  Stored in directory: /root/.cache/pip/wheels/21/73/06/ea4b85609301850b1289a282852d92e22fcbf7a250ed5f547f\n",
            "Successfully built mpld3\n",
            "Installing collected packages: mpld3\n",
            "Successfully installed mpld3-0.5.2\n"
          ],
          "name": "stdout"
        }
      ]
    },
    {
      "cell_type": "code",
      "metadata": {
        "id": "IcEtcVzKgW17"
      },
      "source": [
        "import pandas as pd\n",
        "from sklearn.model_selection import train_test_split\n",
        "from sklearn.ensemble import RandomForestClassifier\n",
        "from sklearn.metrics import f1_score, confusion_matrix\n",
        "from sklearn.metrics import accuracy_score, recall_score\n",
        "import numpy as np # linear algebra\n",
        "import pandas as pd # data processing, CSV file I/O (e.g. pd.read_csv)\n",
        "import seaborn as sns # data visualization library  \n",
        "import matplotlib.pyplot as plt\n",
        "import time\n",
        "from subprocess import check_output\n",
        "import warnings\n",
        "warnings.filterwarnings(\"ignore\", category=FutureWarning)\n",
        "\n",
        "%matplotlib inline \n",
        "import matplotlib.pyplot as plt \n",
        "import matplotlib.gridspec as gridspec \n",
        "import mpld3 as mpl\n",
        "\n",
        "\n",
        "from sklearn.ensemble import RandomForestClassifier \n",
        "from sklearn.naive_bayes import GaussianNB\n",
        "from sklearn.neighbors import KNeighborsClassifier\n",
        "from sklearn.tree import DecisionTreeClassifier\n",
        "from sklearn import svm \n",
        "from sklearn import metrics "
      ],
      "execution_count": 2,
      "outputs": []
    },
    {
      "cell_type": "code",
      "metadata": {
        "id": "Z_Wub7K6z4JN"
      },
      "source": [
        "from google.colab import files\n",
        "files.upload()"
      ],
      "execution_count": null,
      "outputs": []
    },
    {
      "cell_type": "code",
      "metadata": {
        "colab": {
          "base_uri": "https://localhost:8080/",
          "height": 206
        },
        "id": "EP-ffq1ygl1-",
        "outputId": "4429af6f-bd10-4064-c5cd-0758e0109109"
      },
      "source": [
        "df = pd.read_csv('./heart.csv')\n",
        "df.head() # mostra as primeiras 5 linhas do arquivo"
      ],
      "execution_count": 4,
      "outputs": [
        {
          "output_type": "execute_result",
          "data": {
            "text/html": [
              "<div>\n",
              "<style scoped>\n",
              "    .dataframe tbody tr th:only-of-type {\n",
              "        vertical-align: middle;\n",
              "    }\n",
              "\n",
              "    .dataframe tbody tr th {\n",
              "        vertical-align: top;\n",
              "    }\n",
              "\n",
              "    .dataframe thead th {\n",
              "        text-align: right;\n",
              "    }\n",
              "</style>\n",
              "<table border=\"1\" class=\"dataframe\">\n",
              "  <thead>\n",
              "    <tr style=\"text-align: right;\">\n",
              "      <th></th>\n",
              "      <th>age</th>\n",
              "      <th>sex</th>\n",
              "      <th>cp</th>\n",
              "      <th>trestbps</th>\n",
              "      <th>chol</th>\n",
              "      <th>fbs</th>\n",
              "      <th>restecg</th>\n",
              "      <th>thalach</th>\n",
              "      <th>exang</th>\n",
              "      <th>oldpeak</th>\n",
              "      <th>slope</th>\n",
              "      <th>ca</th>\n",
              "      <th>thal</th>\n",
              "      <th>target</th>\n",
              "    </tr>\n",
              "  </thead>\n",
              "  <tbody>\n",
              "    <tr>\n",
              "      <th>0</th>\n",
              "      <td>63</td>\n",
              "      <td>1</td>\n",
              "      <td>3</td>\n",
              "      <td>145</td>\n",
              "      <td>233</td>\n",
              "      <td>1</td>\n",
              "      <td>0</td>\n",
              "      <td>150</td>\n",
              "      <td>0</td>\n",
              "      <td>2.3</td>\n",
              "      <td>0</td>\n",
              "      <td>0</td>\n",
              "      <td>1</td>\n",
              "      <td>1</td>\n",
              "    </tr>\n",
              "    <tr>\n",
              "      <th>1</th>\n",
              "      <td>37</td>\n",
              "      <td>1</td>\n",
              "      <td>2</td>\n",
              "      <td>130</td>\n",
              "      <td>250</td>\n",
              "      <td>0</td>\n",
              "      <td>1</td>\n",
              "      <td>187</td>\n",
              "      <td>0</td>\n",
              "      <td>3.5</td>\n",
              "      <td>0</td>\n",
              "      <td>0</td>\n",
              "      <td>2</td>\n",
              "      <td>1</td>\n",
              "    </tr>\n",
              "    <tr>\n",
              "      <th>2</th>\n",
              "      <td>41</td>\n",
              "      <td>0</td>\n",
              "      <td>1</td>\n",
              "      <td>130</td>\n",
              "      <td>204</td>\n",
              "      <td>0</td>\n",
              "      <td>0</td>\n",
              "      <td>172</td>\n",
              "      <td>0</td>\n",
              "      <td>1.4</td>\n",
              "      <td>2</td>\n",
              "      <td>0</td>\n",
              "      <td>2</td>\n",
              "      <td>1</td>\n",
              "    </tr>\n",
              "    <tr>\n",
              "      <th>3</th>\n",
              "      <td>56</td>\n",
              "      <td>1</td>\n",
              "      <td>1</td>\n",
              "      <td>120</td>\n",
              "      <td>236</td>\n",
              "      <td>0</td>\n",
              "      <td>1</td>\n",
              "      <td>178</td>\n",
              "      <td>0</td>\n",
              "      <td>0.8</td>\n",
              "      <td>2</td>\n",
              "      <td>0</td>\n",
              "      <td>2</td>\n",
              "      <td>1</td>\n",
              "    </tr>\n",
              "    <tr>\n",
              "      <th>4</th>\n",
              "      <td>57</td>\n",
              "      <td>0</td>\n",
              "      <td>0</td>\n",
              "      <td>120</td>\n",
              "      <td>354</td>\n",
              "      <td>0</td>\n",
              "      <td>1</td>\n",
              "      <td>163</td>\n",
              "      <td>1</td>\n",
              "      <td>0.6</td>\n",
              "      <td>2</td>\n",
              "      <td>0</td>\n",
              "      <td>2</td>\n",
              "      <td>1</td>\n",
              "    </tr>\n",
              "  </tbody>\n",
              "</table>\n",
              "</div>"
            ],
            "text/plain": [
              "   age  sex  cp  trestbps  chol  fbs  ...  exang  oldpeak  slope  ca  thal  target\n",
              "0   63    1   3       145   233    1  ...      0      2.3      0   0     1       1\n",
              "1   37    1   2       130   250    0  ...      0      3.5      0   0     2       1\n",
              "2   41    0   1       130   204    0  ...      0      1.4      2   0     2       1\n",
              "3   56    1   1       120   236    0  ...      0      0.8      2   0     2       1\n",
              "4   57    0   0       120   354    0  ...      1      0.6      2   0     2       1\n",
              "\n",
              "[5 rows x 14 columns]"
            ]
          },
          "metadata": {
            "tags": []
          },
          "execution_count": 4
        }
      ]
    },
    {
      "cell_type": "code",
      "metadata": {
        "colab": {
          "base_uri": "https://localhost:8080/"
        },
        "id": "-asx8yzKgv8k",
        "outputId": "8ea8508b-2402-4f2c-90f4-719d6440e165"
      },
      "source": [
        "\n",
        "df.info()"
      ],
      "execution_count": 5,
      "outputs": [
        {
          "output_type": "stream",
          "text": [
            "<class 'pandas.core.frame.DataFrame'>\n",
            "RangeIndex: 303 entries, 0 to 302\n",
            "Data columns (total 14 columns):\n",
            " #   Column    Non-Null Count  Dtype  \n",
            "---  ------    --------------  -----  \n",
            " 0   age       303 non-null    int64  \n",
            " 1   sex       303 non-null    int64  \n",
            " 2   cp        303 non-null    int64  \n",
            " 3   trestbps  303 non-null    int64  \n",
            " 4   chol      303 non-null    int64  \n",
            " 5   fbs       303 non-null    int64  \n",
            " 6   restecg   303 non-null    int64  \n",
            " 7   thalach   303 non-null    int64  \n",
            " 8   exang     303 non-null    int64  \n",
            " 9   oldpeak   303 non-null    float64\n",
            " 10  slope     303 non-null    int64  \n",
            " 11  ca        303 non-null    int64  \n",
            " 12  thal      303 non-null    int64  \n",
            " 13  target    303 non-null    int64  \n",
            "dtypes: float64(1), int64(13)\n",
            "memory usage: 33.3 KB\n"
          ],
          "name": "stdout"
        }
      ]
    },
    {
      "cell_type": "code",
      "metadata": {
        "colab": {
          "base_uri": "https://localhost:8080/"
        },
        "id": "dvo4B65Bg1ki",
        "outputId": "d259cfd6-5c6c-41d6-c345-cf31eaf8e096"
      },
      "source": [
        "df.isnull().sum()"
      ],
      "execution_count": 6,
      "outputs": [
        {
          "output_type": "execute_result",
          "data": {
            "text/plain": [
              "age         0\n",
              "sex         0\n",
              "cp          0\n",
              "trestbps    0\n",
              "chol        0\n",
              "fbs         0\n",
              "restecg     0\n",
              "thalach     0\n",
              "exang       0\n",
              "oldpeak     0\n",
              "slope       0\n",
              "ca          0\n",
              "thal        0\n",
              "target      0\n",
              "dtype: int64"
            ]
          },
          "metadata": {
            "tags": []
          },
          "execution_count": 6
        }
      ]
    },
    {
      "cell_type": "code",
      "metadata": {
        "colab": {
          "base_uri": "https://localhost:8080/"
        },
        "id": "53xMimbthb85",
        "outputId": "2ef44c2e-ded2-4884-ef72-d8cff0657bf9"
      },
      "source": [
        "!pip install sweetviz"
      ],
      "execution_count": 7,
      "outputs": [
        {
          "output_type": "stream",
          "text": [
            "Collecting sweetviz\n",
            "\u001b[?25l  Downloading https://files.pythonhosted.org/packages/a2/14/045f8057d87e3851c1a4ddd319f17ab7386e173a2f34de3868f4a359aea4/sweetviz-1.1.2-py3-none-any.whl (15.1MB)\n",
            "\u001b[K     |████████████████████████████████| 15.1MB 315kB/s \n",
            "\u001b[?25hRequirement already satisfied: importlib-resources>=1.2.0 in /usr/local/lib/python3.6/dist-packages (from sweetviz) (3.3.0)\n",
            "Collecting tqdm>=4.43.0\n",
            "\u001b[?25l  Downloading https://files.pythonhosted.org/packages/e9/4e/afa45872365fe2abd13c8022d39348c01808b8cfeea129937920d7bb2244/tqdm-4.54.0-py2.py3-none-any.whl (69kB)\n",
            "\u001b[K     |████████████████████████████████| 71kB 6.2MB/s \n",
            "\u001b[?25hRequirement already satisfied: jinja2>=2.11.1 in /usr/local/lib/python3.6/dist-packages (from sweetviz) (2.11.2)\n",
            "Requirement already satisfied: numpy>=1.16.0 in /usr/local/lib/python3.6/dist-packages (from sweetviz) (1.18.5)\n",
            "Requirement already satisfied: pandas!=1.0.0,!=1.0.1,!=1.0.2,>=0.25.3 in /usr/local/lib/python3.6/dist-packages (from sweetviz) (1.1.4)\n",
            "Requirement already satisfied: matplotlib>=3.1.3 in /usr/local/lib/python3.6/dist-packages (from sweetviz) (3.2.2)\n",
            "Requirement already satisfied: scipy>=1.3.2 in /usr/local/lib/python3.6/dist-packages (from sweetviz) (1.4.1)\n",
            "Requirement already satisfied: zipp>=0.4; python_version < \"3.8\" in /usr/local/lib/python3.6/dist-packages (from importlib-resources>=1.2.0->sweetviz) (3.4.0)\n",
            "Requirement already satisfied: MarkupSafe>=0.23 in /usr/local/lib/python3.6/dist-packages (from jinja2>=2.11.1->sweetviz) (1.1.1)\n",
            "Requirement already satisfied: pytz>=2017.2 in /usr/local/lib/python3.6/dist-packages (from pandas!=1.0.0,!=1.0.1,!=1.0.2,>=0.25.3->sweetviz) (2018.9)\n",
            "Requirement already satisfied: python-dateutil>=2.7.3 in /usr/local/lib/python3.6/dist-packages (from pandas!=1.0.0,!=1.0.1,!=1.0.2,>=0.25.3->sweetviz) (2.8.1)\n",
            "Requirement already satisfied: pyparsing!=2.0.4,!=2.1.2,!=2.1.6,>=2.0.1 in /usr/local/lib/python3.6/dist-packages (from matplotlib>=3.1.3->sweetviz) (2.4.7)\n",
            "Requirement already satisfied: cycler>=0.10 in /usr/local/lib/python3.6/dist-packages (from matplotlib>=3.1.3->sweetviz) (0.10.0)\n",
            "Requirement already satisfied: kiwisolver>=1.0.1 in /usr/local/lib/python3.6/dist-packages (from matplotlib>=3.1.3->sweetviz) (1.3.1)\n",
            "Requirement already satisfied: six>=1.5 in /usr/local/lib/python3.6/dist-packages (from python-dateutil>=2.7.3->pandas!=1.0.0,!=1.0.1,!=1.0.2,>=0.25.3->sweetviz) (1.15.0)\n",
            "Installing collected packages: tqdm, sweetviz\n",
            "  Found existing installation: tqdm 4.41.1\n",
            "    Uninstalling tqdm-4.41.1:\n",
            "      Successfully uninstalled tqdm-4.41.1\n",
            "Successfully installed sweetviz-1.1.2 tqdm-4.54.0\n"
          ],
          "name": "stdout"
        }
      ]
    },
    {
      "cell_type": "code",
      "metadata": {
        "colab": {
          "base_uri": "https://localhost:8080/",
          "height": 86,
          "referenced_widgets": [
            "4aa3cc6173b94464978e9dc914b0fa64",
            "bd3330de223d43e68eeb2e44a86c2da2",
            "3d417a195f05459fb03bb900256ff511",
            "2977a1f387b24a9494068732809b98d8",
            "448014bd69b8414c802652f18fd0dbf3",
            "b79efab7dadf4b7bb2a5bdc2d2051507",
            "37643ff95c6641b98c1be37cdb9ee0ff",
            "f58a50b698e44f0eb7350b65147586db",
            "3546c1b15a244c538f0404e387d1b4ad",
            "056d20e6cefb4cdeaa227f115a82e91f",
            "d8bc405055ac46a591f70e22c08e22e3"
          ]
        },
        "id": "SJpd9Rrthkfx",
        "outputId": "8531919b-2a98-436c-dd60-4d842249ecfa"
      },
      "source": [
        "import sweetviz as sv\n",
        "\n",
        "relatorio = sv.analyze(df)\n",
        "relatorio.show_html() "
      ],
      "execution_count": 8,
      "outputs": [
        {
          "output_type": "display_data",
          "data": {
            "application/vnd.jupyter.widget-view+json": {
              "model_id": "4aa3cc6173b94464978e9dc914b0fa64",
              "version_minor": 0,
              "version_major": 2
            },
            "text/plain": [
              "HBox(children=(HTML(value=''), FloatProgress(value=0.0, layout=Layout(flex='2'), max=15.0), HTML(value='')), l…"
            ]
          },
          "metadata": {
            "tags": []
          }
        },
        {
          "output_type": "stream",
          "text": [
            "\n",
            "Report SWEETVIZ_REPORT.html was generated! NOTEBOOK/COLAB USERS: the web browser MAY not pop up, regardless, the report IS saved in your notebook/colab files.\n"
          ],
          "name": "stdout"
        }
      ]
    },
    {
      "cell_type": "code",
      "metadata": {
        "colab": {
          "base_uri": "https://localhost:8080/"
        },
        "id": "W2uPbKZ2hu1b",
        "outputId": "22d8758c-cb53-48ef-8c91-e7ea22ba13b2"
      },
      "source": [
        "df2 = df[[column for column in df if df[column].count() / len(df) >= 0.3]]\n",
        "del df2['sex']\n",
        "print(\"List of dropped columns:\", end=\" \")\n",
        "for c in df.columns:\n",
        "    if c not in df2.columns:\n",
        "        print(c, end=\", \")\n",
        "print('\\n')\n",
        "df = df2"
      ],
      "execution_count": 15,
      "outputs": [
        {
          "output_type": "stream",
          "text": [
            "List of dropped columns: sex, \n",
            "\n"
          ],
          "name": "stdout"
        }
      ]
    },
    {
      "cell_type": "code",
      "metadata": {
        "colab": {
          "base_uri": "https://localhost:8080/"
        },
        "id": "8DgJ-09ji-mY",
        "outputId": "2af896b4-7d2b-40b2-d340-245ed3900131"
      },
      "source": [
        "df2 = df[[column for column in df if df[column].count() / len(df) >= 0.3]]\n",
        "del df2['age']\n",
        "print(\"List of dropped columns:\", end=\" \")\n",
        "for c in df.columns:\n",
        "    if c not in df2.columns:\n",
        "        print(c, end=\", \")\n",
        "print('\\n')\n",
        "df = df2"
      ],
      "execution_count": 16,
      "outputs": [
        {
          "output_type": "stream",
          "text": [
            "List of dropped columns: age, \n",
            "\n"
          ],
          "name": "stdout"
        }
      ]
    },
    {
      "cell_type": "code",
      "metadata": {
        "colab": {
          "base_uri": "https://localhost:8080/",
          "height": 206
        },
        "id": "d2_DrCKAjmxT",
        "outputId": "682157d0-f488-4fb8-8848-1c4806ef9d38"
      },
      "source": [
        "y = df['target']   \n",
        "\n",
        "list = ['target']\n",
        "x = df.drop(list,axis = 1 ) \n",
        "\n",
        "\n",
        "x.head()"
      ],
      "execution_count": 17,
      "outputs": [
        {
          "output_type": "execute_result",
          "data": {
            "text/html": [
              "<div>\n",
              "<style scoped>\n",
              "    .dataframe tbody tr th:only-of-type {\n",
              "        vertical-align: middle;\n",
              "    }\n",
              "\n",
              "    .dataframe tbody tr th {\n",
              "        vertical-align: top;\n",
              "    }\n",
              "\n",
              "    .dataframe thead th {\n",
              "        text-align: right;\n",
              "    }\n",
              "</style>\n",
              "<table border=\"1\" class=\"dataframe\">\n",
              "  <thead>\n",
              "    <tr style=\"text-align: right;\">\n",
              "      <th></th>\n",
              "      <th>cp</th>\n",
              "      <th>trestbps</th>\n",
              "      <th>chol</th>\n",
              "      <th>fbs</th>\n",
              "      <th>restecg</th>\n",
              "      <th>thalach</th>\n",
              "      <th>exang</th>\n",
              "      <th>oldpeak</th>\n",
              "      <th>slope</th>\n",
              "      <th>ca</th>\n",
              "      <th>thal</th>\n",
              "    </tr>\n",
              "  </thead>\n",
              "  <tbody>\n",
              "    <tr>\n",
              "      <th>0</th>\n",
              "      <td>3</td>\n",
              "      <td>145</td>\n",
              "      <td>233</td>\n",
              "      <td>1</td>\n",
              "      <td>0</td>\n",
              "      <td>150</td>\n",
              "      <td>0</td>\n",
              "      <td>2.3</td>\n",
              "      <td>0</td>\n",
              "      <td>0</td>\n",
              "      <td>1</td>\n",
              "    </tr>\n",
              "    <tr>\n",
              "      <th>1</th>\n",
              "      <td>2</td>\n",
              "      <td>130</td>\n",
              "      <td>250</td>\n",
              "      <td>0</td>\n",
              "      <td>1</td>\n",
              "      <td>187</td>\n",
              "      <td>0</td>\n",
              "      <td>3.5</td>\n",
              "      <td>0</td>\n",
              "      <td>0</td>\n",
              "      <td>2</td>\n",
              "    </tr>\n",
              "    <tr>\n",
              "      <th>2</th>\n",
              "      <td>1</td>\n",
              "      <td>130</td>\n",
              "      <td>204</td>\n",
              "      <td>0</td>\n",
              "      <td>0</td>\n",
              "      <td>172</td>\n",
              "      <td>0</td>\n",
              "      <td>1.4</td>\n",
              "      <td>2</td>\n",
              "      <td>0</td>\n",
              "      <td>2</td>\n",
              "    </tr>\n",
              "    <tr>\n",
              "      <th>3</th>\n",
              "      <td>1</td>\n",
              "      <td>120</td>\n",
              "      <td>236</td>\n",
              "      <td>0</td>\n",
              "      <td>1</td>\n",
              "      <td>178</td>\n",
              "      <td>0</td>\n",
              "      <td>0.8</td>\n",
              "      <td>2</td>\n",
              "      <td>0</td>\n",
              "      <td>2</td>\n",
              "    </tr>\n",
              "    <tr>\n",
              "      <th>4</th>\n",
              "      <td>0</td>\n",
              "      <td>120</td>\n",
              "      <td>354</td>\n",
              "      <td>0</td>\n",
              "      <td>1</td>\n",
              "      <td>163</td>\n",
              "      <td>1</td>\n",
              "      <td>0.6</td>\n",
              "      <td>2</td>\n",
              "      <td>0</td>\n",
              "      <td>2</td>\n",
              "    </tr>\n",
              "  </tbody>\n",
              "</table>\n",
              "</div>"
            ],
            "text/plain": [
              "   cp  trestbps  chol  fbs  restecg  thalach  exang  oldpeak  slope  ca  thal\n",
              "0   3       145   233    1        0      150      0      2.3      0   0     1\n",
              "1   2       130   250    0        1      187      0      3.5      0   0     2\n",
              "2   1       130   204    0        0      172      0      1.4      2   0     2\n",
              "3   1       120   236    0        1      178      0      0.8      2   0     2\n",
              "4   0       120   354    0        1      163      1      0.6      2   0     2"
            ]
          },
          "metadata": {
            "tags": []
          },
          "execution_count": 17
        }
      ]
    },
    {
      "cell_type": "code",
      "metadata": {
        "id": "ZKjxVB7-kWYL"
      },
      "source": [
        "y = y.replace(\"B\", 0)  \n",
        "y = y.replace(\"M\", 1)\n"
      ],
      "execution_count": 43,
      "outputs": []
    },
    {
      "cell_type": "code",
      "metadata": {
        "id": "jsqL2Kapn3Cx"
      },
      "source": [
        "from sklearn.feature_selection import RFE\n",
        "x_names= x.columns\n",
        "\n",
        "x_train, x_test, y_train, y_test = train_test_split(x, y, test_size=0.3, random_state=42)\n",
        "\n",
        "clf_rf_2 = RandomForestClassifier(random_state=43)      \n",
        "rfe = RFE(estimator=clf_rf_2, n_features_to_select=16, step=1)\n",
        "rfe = rfe.fit(x_train, y_train)"
      ],
      "execution_count": 44,
      "outputs": []
    },
    {
      "cell_type": "code",
      "metadata": {
        "colab": {
          "base_uri": "https://localhost:8080/"
        },
        "id": "hbsLtW0SoOi5",
        "outputId": "dfee202d-55b1-40f5-d091-5201952dce39"
      },
      "source": [
        "print('Chosen best 16 feature by rfe:',x_train.columns[rfe.support_])"
      ],
      "execution_count": 45,
      "outputs": [
        {
          "output_type": "stream",
          "text": [
            "Chosen best 16 feature by rfe: Index(['cp', 'trestbps', 'chol', 'fbs', 'restecg', 'thalach', 'exang',\n",
            "       'oldpeak', 'slope', 'ca', 'thal'],\n",
            "      dtype='object')\n"
          ],
          "name": "stdout"
        }
      ]
    },
    {
      "cell_type": "code",
      "metadata": {
        "colab": {
          "base_uri": "https://localhost:8080/",
          "height": 436
        },
        "id": "ZYswZYhGoYlI",
        "outputId": "c8ab2565-b390-40b7-90cf-f68a65099fbb"
      },
      "source": [
        "recall = recall_score(y_test,rfe.predict(x_test), average='micro')\n",
        "print('Recall is: ', recall)\n",
        "accuracy = accuracy_score(y_test,rfe.predict(x_test))\n",
        "print('Accuracy is: ', accuracy)\n",
        "f1 = f1_score(y_test,rfe.predict(x_test), average='micro')\n",
        "print('F1 score is: ', f1)\n",
        "cm = confusion_matrix(y_test,rfe.predict(x_test))\n",
        "sns.heatmap(cm,annot=True,fmt=\"d\")"
      ],
      "execution_count": 46,
      "outputs": [
        {
          "output_type": "stream",
          "text": [
            "Recall is:  0.7912087912087912\n",
            "Accuracy is:  0.7912087912087912\n",
            "F1 score is:  0.7912087912087912\n"
          ],
          "name": "stdout"
        },
        {
          "output_type": "execute_result",
          "data": {
            "text/plain": [
              "<matplotlib.axes._subplots.AxesSubplot at 0x7f64315192e8>"
            ]
          },
          "metadata": {
            "tags": []
          },
          "execution_count": 46
        },
        {
          "output_type": "display_data",
          "data": {
            "image/png": "[encoded data removed]",
            "text/plain": [
              "<Figure size 600x400 with 2 Axes>"
            ]
          },
          "metadata": {
            "tags": []
          }
        }
      ]
    },
    {
      "cell_type": "code",
      "metadata": {
        "colab": {
          "base_uri": "https://localhost:8080/"
        },
        "id": "ahx1f_0rkfAS",
        "outputId": "2346edde-2ded-4df8-8419-181a18f7160f"
      },
      "source": [
        "from sklearn.ensemble import ExtraTreesClassifier\n",
        "from sklearn.datasets import load_iris\n",
        "from sklearn.feature_selection import SelectFromModel\n",
        "\n",
        "print(x_train.shape)  \n",
        "\n",
        "clf = ExtraTreesClassifier(n_estimators=50)\n",
        "clf = clf.fit(x_train, y_train)\n",
        "print(clf.feature_importances_)  \n",
        "\n",
        "model = SelectFromModel(clf, prefit=True)\n",
        "\n",
        "x_new = model.transform(x_train)\n",
        "x_test_new = model.transform(x_test) \n",
        "\n",
        "\n",
        "x_new.shape"
      ],
      "execution_count": 47,
      "outputs": [
        {
          "output_type": "stream",
          "text": [
            "(212, 11)\n",
            "[0.11738113 0.07732101 0.07537106 0.0218402  0.03557653 0.09246321\n",
            " 0.1402454  0.09202531 0.0681117  0.15614922 0.12351523]\n"
          ],
          "name": "stdout"
        },
        {
          "output_type": "execute_result",
          "data": {
            "text/plain": [
              "(212, 6)"
            ]
          },
          "metadata": {
            "tags": []
          },
          "execution_count": 47
        }
      ]
    },
    {
      "cell_type": "code",
      "metadata": {
        "id": "_Or2a7soknRf"
      },
      "source": [
        "model=RandomForestClassifier(n_estimators=100)"
      ],
      "execution_count": 48,
      "outputs": []
    },
    {
      "cell_type": "code",
      "metadata": {
        "colab": {
          "base_uri": "https://localhost:8080/"
        },
        "id": "-q-ReWwakwKU",
        "outputId": "6bbdf9a1-43bc-49f0-e4e6-6edc0954ea49"
      },
      "source": [
        "model.fit(x_new,y_train)"
      ],
      "execution_count": 49,
      "outputs": [
        {
          "output_type": "execute_result",
          "data": {
            "text/plain": [
              "RandomForestClassifier(bootstrap=True, ccp_alpha=0.0, class_weight=None,\n",
              "                       criterion='gini', max_depth=None, max_features='auto',\n",
              "                       max_leaf_nodes=None, max_samples=None,\n",
              "                       min_impurity_decrease=0.0, min_impurity_split=None,\n",
              "                       min_samples_leaf=1, min_samples_split=2,\n",
              "                       min_weight_fraction_leaf=0.0, n_estimators=100,\n",
              "                       n_jobs=None, oob_score=False, random_state=None,\n",
              "                       verbose=0, warm_start=False)"
            ]
          },
          "metadata": {
            "tags": []
          },
          "execution_count": 49
        }
      ]
    },
    {
      "cell_type": "code",
      "metadata": {
        "colab": {
          "base_uri": "https://localhost:8080/"
        },
        "id": "GDEwYxNzkzmi",
        "outputId": "729550e2-7477-464e-d022-c096fde6a3d5"
      },
      "source": [
        "prediction=model.predict(x_test_new)\n",
        "acc = metrics.accuracy_score(prediction,y_test)\n",
        "prec = metrics.precision_score(prediction,y_test)\n",
        "rec = metrics.recall_score(prediction,y_test)\n",
        "roc = metrics.roc_auc_score(prediction,y_test)\n",
        "\n",
        "\n",
        "print(\"RandomForest - AUC: \", roc, \"prec: \", prec, \"rec: \", rec, \"acc: \", acc)"
      ],
      "execution_count": 50,
      "outputs": [
        {
          "output_type": "stream",
          "text": [
            "RandomForest - AUC:  0.7698067632850242 prec:  0.74 rec:  0.8222222222222222 acc:  0.7692307692307693\n"
          ],
          "name": "stdout"
        }
      ]
    },
    {
      "cell_type": "code",
      "metadata": {
        "id": "vA3PPqYglAxZ"
      },
      "source": [
        "from sklearn import tree\n",
        "\n",
        "clf = tree.DecisionTreeClassifier()\n",
        "clf = clf.fit(x_new,y_train)"
      ],
      "execution_count": 51,
      "outputs": []
    },
    {
      "cell_type": "code",
      "metadata": {
        "colab": {
          "base_uri": "https://localhost:8080/"
        },
        "id": "M9VdYX3AlMR4",
        "outputId": "aca0c612-2a0c-4d60-e0b2-9e6274237313"
      },
      "source": [
        "prediction = clf.predict(x_test_new)\n",
        "\n",
        "acc = metrics.accuracy_score(prediction,y_test)\n",
        "prec = metrics.precision_score(prediction,y_test)\n",
        "rec = metrics.recall_score(prediction,y_test)\n",
        "roc = metrics.roc_auc_score(prediction,y_test)\n",
        "\n",
        "\n",
        "print(\"RandomForest - AUC: \", roc, \"prec: \", prec, \"rec: \", rec, \"acc: \", acc)"
      ],
      "execution_count": 52,
      "outputs": [
        {
          "output_type": "stream",
          "text": [
            "RandomForest - AUC:  0.7038647342995169 prec:  0.68 rec:  0.7555555555555555 acc:  0.7032967032967034\n"
          ],
          "name": "stdout"
        }
      ]
    },
    {
      "cell_type": "code",
      "metadata": {
        "id": "Cvb3ycTalPvz"
      },
      "source": [
        "from sklearn.neighbors import KNeighborsClassifier\n",
        "\n",
        "neigh = KNeighborsClassifier(n_neighbors=5)\n",
        "neigh = neigh.fit(x_new,y_train)"
      ],
      "execution_count": 53,
      "outputs": []
    },
    {
      "cell_type": "code",
      "metadata": {
        "colab": {
          "base_uri": "https://localhost:8080/"
        },
        "id": "uhxcRrfnlTeB",
        "outputId": "41740a7a-1c60-44e6-c847-369bcc81eea8"
      },
      "source": [
        "prediction=neigh.predict(x_test_new)\n",
        "acc = metrics.accuracy_score(prediction,y_test)\n",
        "prec = metrics.precision_score(prediction,y_test)\n",
        "rec = metrics.recall_score(prediction,y_test)\n",
        "roc = metrics.roc_auc_score(prediction,y_test)\n",
        "\n",
        "\n",
        "print(\"RandomForest - AUC: \", roc, \"prec: \", prec, \"rec: \", rec, \"acc: \", acc)"
      ],
      "execution_count": 54,
      "outputs": [
        {
          "output_type": "stream",
          "text": [
            "RandomForest - AUC:  0.7352352352352352 prec:  0.8 rec:  0.7407407407407407 acc:  0.7362637362637363\n"
          ],
          "name": "stdout"
        }
      ]
    },
    {
      "cell_type": "code",
      "metadata": {
        "id": "HlpsujrnlXjw"
      },
      "source": [
        "from sklearn.neural_network import MLPClassifier\n",
        "from sklearn.datasets import make_classification\n",
        "from sklearn.model_selection import train_test_split\n",
        "\n",
        "mlp = MLPClassifier(random_state=1, max_iter=300)\n",
        "mlp = mlp.fit(x_new,y_train)"
      ],
      "execution_count": 55,
      "outputs": []
    },
    {
      "cell_type": "code",
      "metadata": {
        "colab": {
          "base_uri": "https://localhost:8080/"
        },
        "id": "VhChaJqplmqA",
        "outputId": "b3ab1410-a9be-41a5-87d1-44589d294587"
      },
      "source": [
        "prediction=mlp.predict(x_test_new)\n",
        "acc = metrics.accuracy_score(prediction,y_test)\n",
        "prec = metrics.precision_score(prediction,y_test)\n",
        "rec = metrics.recall_score(prediction,y_test)\n",
        "roc = metrics.roc_auc_score(prediction,y_test)\n",
        "\n",
        "print(\"RandomForest - AUC: \", roc, \"prec: \", prec, \"rec: \", rec, \"acc: \", acc)"
      ],
      "execution_count": 56,
      "outputs": [
        {
          "output_type": "stream",
          "text": [
            "RandomForest - AUC:  0.8446341463414633 prec:  0.86 rec:  0.86 acc:  0.8461538461538461\n"
          ],
          "name": "stdout"
        }
      ]
    },
    {
      "cell_type": "code",
      "metadata": {
        "id": "xm4oJZWBnHuk"
      },
      "source": [
        "def classification_model(model,data,prediction_input,output):\n",
        "\n",
        "    model.fit(data[prediction_input],data[output]) #Here we fit the model using training set\n",
        "  \n",
        "    predictions = model.predict(data[prediction_input])\n",
        "  \n",
        "    accuracy = metrics.accuracy_score(predictions,data[output])\n",
        "    print(\"Accuracy : %s\" % \"{0:.3%}\".format(accuracy))\n",
        " \n",
        "    \n",
        "    kf = KFold(data.shape[0], n_folds=5)\n",
        "\n",
        "    error = []\n",
        "    for train, test in kf:\n",
        "\n",
        "        train_X = (data[prediction_input].iloc[train,:])\n",
        "\n",
        "        train_y = data[output].iloc[train]\n",
        "\n",
        "        model.fit(train_X, train_y)\n",
        "    \n",
        "        test_X=data[prediction_input].iloc[test,:]\n",
        "        test_y=data[output].iloc[test]\n",
        "        error.append(model.score(test_X,test_y))\n",
        "\n",
        "        print(\"Cross-Validation Score : %s\" % \"{0:.3%}\".format(np.mean(error)))"
      ],
      "execution_count": 58,
      "outputs": []
    },
    {
      "cell_type": "markdown",
      "metadata": {
        "id": "cKzeRsQAqsIv"
      },
      "source": [
        "## Conclusão\n",
        "\n",
        "No começo foi feito a exploração de dados, onde foi verificado os dados ausentes e recursos que não serão relevantes. Durante este processo, foi usado o plotly, seaborn, pandas, sweetviz e matplotlib para fazer as visualizações.\n",
        "\n",
        "Durante a parte de pré-processamento de dados foi feita a seleção de atributos, necessária para eliminar atributos desnecessários, que poderão prejudicar o desempenho dos algorimos. Por fim, alguns classificadores foram rodados para comparar resultados. "
      ]
    },
    {
      "cell_type": "code",
      "metadata": {
        "id": "vxoNyDN5vC3P"
      },
      "source": [
        ""
      ],
      "execution_count": null,
      "outputs": []
    }
  ]
}